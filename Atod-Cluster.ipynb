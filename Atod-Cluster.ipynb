{
 "cells": [
  {
   "cell_type": "code",
   "execution_count": 6,
   "metadata": {},
   "outputs": [],
   "source": [
    "def find_clusters(n, connections):\n",
    "    graph = {i: [] for i in range(1, n + 1)}\n",
    "\n",
    "    for connection in connections:\n",
    "        a, b = connection\n",
    "        graph[a].append(b)\n",
    "        graph[b].append(a)\n",
    "\n",
    "    visited = set()\n",
    "    clusters = []\n",
    "\n",
    "    # Function to perform a Depth-First Search (DFS) from a node\n",
    "    def dfs(node):\n",
    "        stack = [node]\n",
    "        cluster = 0\n",
    "\n",
    "        while stack:\n",
    "            current_node = stack.pop()\n",
    "            if current_node not in visited:\n",
    "                visited.add(current_node)\n",
    "                cluster += 1\n",
    "                stack.extend(neighbor for neighbor in graph[current_node] if neighbor not in visited)\n",
    "\n",
    "        return cluster\n",
    "\n",
    "    # Find clusters using DFS\n",
    "    for star in range(1, n + 1):\n",
    "        if star not in visited:\n",
    "            cluster_size = dfs(star)\n",
    "            clusters.append(cluster_size - 1) \n",
    "\n",
    "    return clusters"
   ]
  },
  {
   "cell_type": "code",
   "execution_count": 7,
   "metadata": {},
   "outputs": [
    {
     "name": "stdout",
     "output_type": "stream",
     "text": [
      "2\n",
      "1\n",
      "2\n"
     ]
    }
   ],
   "source": [
    "N, M = map(int, [5, 3])\n",
    "connections = [(1, 2), (2, 3), (4, 5)]\n",
    "\n",
    "cluster_sizes = find_clusters(N, connections)\n",
    "cluster_sizes.sort()\n",
    "\n",
    "print(len(cluster_sizes))\n",
    "for size in cluster_sizes:\n",
    "  print(size)"
   ]
  }
 ],
 "metadata": {
  "kernelspec": {
   "display_name": "Python 3",
   "language": "python",
   "name": "python3"
  },
  "language_info": {
   "codemirror_mode": {
    "name": "ipython",
    "version": 3
   },
   "file_extension": ".py",
   "mimetype": "text/x-python",
   "name": "python",
   "nbconvert_exporter": "python",
   "pygments_lexer": "ipython3",
   "version": "3.11.4"
  },
  "orig_nbformat": 4
 },
 "nbformat": 4,
 "nbformat_minor": 2
}
