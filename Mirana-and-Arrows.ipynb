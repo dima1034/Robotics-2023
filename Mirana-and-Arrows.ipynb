{
 "cells": [
  {
   "cell_type": "markdown",
   "metadata": {},
   "source": [
    "To solve this problem efficiently, we going to use a sliding window approach or a **two-pointer** approach. We start with two pointers at the beginning of the arrow list and move the right pointer while keeping track of the total distance. If the total distance exceeds K, we move the left pointer to shorten the window until the total distance is within the limit again. While iterating (moving window) we keep track of the maximum number of arrows we can release during this process.\n",
    "\n",
    "Inspired by code leet =)"
   ]
  },
  {
   "cell_type": "code",
   "execution_count": 20,
   "metadata": {},
   "outputs": [],
   "source": [
    "def max_arrows(N, K, Ai):\n",
    "  left, right, total, max_arrows = 0, 0, 0, 0\n",
    "  \n",
    "  while right < N:\n",
    "    total += Ai[right]\n",
    "    while total > K:\n",
    "        total -= Ai[left]\n",
    "        left += 1\n",
    "    max_arrows = max(max_arrows, right - left + 1)\n",
    "    right += 1\n",
    "  \n",
    "  return max_arrows"
   ]
  },
  {
   "cell_type": "code",
   "execution_count": 23,
   "metadata": {},
   "outputs": [
    {
     "name": "stdout",
     "output_type": "stream",
     "text": [
      "2\n"
     ]
    }
   ],
   "source": [
    "# Example 1\n",
    "print(max_arrows(3, 3, [1, 2, 3, 2]))"
   ]
  },
  {
   "cell_type": "markdown",
   "metadata": {},
   "source": [
    "Sliding window: 1, 2"
   ]
  },
  {
   "cell_type": "code",
   "execution_count": 24,
   "metadata": {},
   "outputs": [
    {
     "name": "stdout",
     "output_type": "stream",
     "text": [
      "3\n"
     ]
    }
   ],
   "source": [
    "# Example 2\n",
    "print(max_arrows(5, 7, [5, 4, 2, 2, 3, 3]))"
   ]
  },
  {
   "cell_type": "markdown",
   "metadata": {},
   "source": [
    "Sliding window: 2, 2, 3"
   ]
  }
 ],
 "metadata": {
  "kernelspec": {
   "display_name": "Python 3",
   "language": "python",
   "name": "python3"
  },
  "language_info": {
   "codemirror_mode": {
    "name": "ipython",
    "version": 3
   },
   "file_extension": ".py",
   "mimetype": "text/x-python",
   "name": "python",
   "nbconvert_exporter": "python",
   "pygments_lexer": "ipython3",
   "version": "3.11.4"
  },
  "orig_nbformat": 4
 },
 "nbformat": 4,
 "nbformat_minor": 2
}
