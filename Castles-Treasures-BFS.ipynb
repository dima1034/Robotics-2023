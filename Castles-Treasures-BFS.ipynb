{
 "cells": [
  {
   "cell_type": "code",
   "execution_count": 7,
   "metadata": {},
   "outputs": [],
   "source": [
    "def bfs(map, start_coordinates):\n",
    "  \n",
    "  def is_valid_neighbor(neighbor, visited, valid_coordinates):\n",
    "    return neighbor in valid_coordinates and neighbor not in visited\n",
    "\n",
    "  def find_keys(map):\n",
    "    keys = {}\n",
    "    for r in range(N):\n",
    "      for c in range(M):\n",
    "        if map[r][c] == 'K':\n",
    "          keys[(r, c)] = 'D'\n",
    "    return keys\n",
    "\n",
    "  def open_doors(keys, visited):\n",
    "    for key_loc, door_loc in keys.items():\n",
    "      if key_loc in visited:\n",
    "        visited.add(door_loc)\n",
    "\n",
    "  def is_room(map, visited, cell):\n",
    "    row, column = cell\n",
    "    if cell not in visited and map[row][column] == '.':\n",
    "      return True\n",
    "    return False\n",
    "  \n",
    "  queue = [start_coordinates]\n",
    "  valid_coordinates = bounds(map)\n",
    "  visited = set()\n",
    "  rooms = 0\n",
    "  coins = 0\n",
    "  keys = find_keys(map)\n",
    "\n",
    "  while queue:\n",
    "    current_cell = queue.pop(0)\n",
    "\n",
    "    if is_room(map, visited, current_cell):\n",
    "      rooms += 1\n",
    "\n",
    "    if map[current_cell[0]][current_cell[1]] == 'G':\n",
    "      coins += 1\n",
    "\n",
    "    visited.add(current_cell)\n",
    "\n",
    "    for neighbor in [(current_cell[0] + 1, current_cell[1]), \n",
    "                     (current_cell[0] - 1, current_cell[1]),\n",
    "                     (current_cell[0], current_cell[1] + 1), \n",
    "                     (current_cell[0], current_cell[1] - 1)]:\n",
    "      if is_valid_neighbor(neighbor, visited, valid_coordinates):\n",
    "        queue.append(neighbor)\n",
    "\n",
    "  open_doors(keys, visited)\n",
    "\n",
    "  return rooms, coins\n",
    "\n",
    "def bounds(map):\n",
    "  \"\"\"Returns a set of all valid coordinates on the given map.\"\"\"\n",
    "\n",
    "  rows = len(map)\n",
    "  columns = len(map[0])\n",
    "\n",
    "  return {(row, column) for row in range(rows) for column in range(columns)}"
   ]
  },
  {
   "cell_type": "code",
   "execution_count": 8,
   "metadata": {},
   "outputs": [
    {
     "name": "stdout",
     "output_type": "stream",
     "text": [
      "[['#', '#', '#', '#', '#', '#', '#', '#', '#', '#', '#', '#', '#', '#', '#', '#', '#', '#', '#', '#', '#', '#', '#', '#', '#', '#'], ['#', '.', '.', '.', '.', '.', '.', '.', '.', '.', '.', '.', '.', '.', '.', '.', '.', 'G', '.', '.', '.', '.', '.', '.', '.', '#'], ['#', '.', '.', '.', 'P', '.', '.', '.', '.', '.', '.', '.', '.', '.', '.', '.', '.', '.', '.', '.', '.', '.', '.', '.', '.', '#'], ['#', '.', '.', '.', '.', '.', '.', '.', '.', '.', '.', '.', '.', '.', 'G', '.', '.', '.', '.', '.', '.', '.', '.', 'G', '.', '#'], ['#', '.', '.', '.', '.', '.', '.', '.', '.', '.', '.', '.', '.', '.', '.', '.', '.', '.', 'G', '.', '.', '.', '.', '.', '.', '#'], ['#', '#', '#', '#', '#', '#', '#', '#', '#', '#', '#', '#', '#', '#', '#', '#', '#', '#', '#', '#', '#', '#', '#', '#', '#', '#']]\n",
      "The maximum number of rooms that can be visited is: 91\n",
      "The maximum number of golden coins that can be collected is: 165\n"
     ]
    }
   ],
   "source": [
    "N, M = 6, 26 \n",
    "input = \"###########################................G.......##...P....................##.............G........G.##.................G......###########################\"\n",
    "castle_map = [list(row) for row in [input[i:i+M] for i in range(0, len(input), M)]]\n",
    "print(castle_map)\n",
    "\n",
    "# Find the starting position (P).\n",
    "for i in range(N):\n",
    "   for j in range(M):\n",
    "      if castle_map[i][j] == 'P':\n",
    "        start_x, start_y = i, j\n",
    "        break\n",
    "\n",
    "(Q, W) = bfs(castle_map, (start_x, start_y))\n",
    "\n",
    "print('The maximum number of rooms that can be visited is:', Q)\n",
    "print('The maximum number of golden coins that can be collected is:', W)"
   ]
  },
  {
   "cell_type": "code",
   "execution_count": null,
   "metadata": {},
   "outputs": [],
   "source": []
  }
 ],
 "metadata": {
  "kernelspec": {
   "display_name": "Python 3",
   "language": "python",
   "name": "python3"
  },
  "language_info": {
   "codemirror_mode": {
    "name": "ipython",
    "version": 3
   },
   "file_extension": ".py",
   "mimetype": "text/x-python",
   "name": "python",
   "nbconvert_exporter": "python",
   "pygments_lexer": "ipython3",
   "version": "3.11.4"
  },
  "orig_nbformat": 4
 },
 "nbformat": 4,
 "nbformat_minor": 2
}
