{
 "cells": [
  {
   "cell_type": "code",
   "execution_count": 31,
   "metadata": {},
   "outputs": [],
   "source": [
    "def max_rooms_and_coins(N, M, castle):\n",
    "    # Define the directions for moving up, down, left, and right.\n",
    "    directions = [(0, 1), (0, -1), (1, 0), (-1, 0)]\n",
    "    visited = [[False] * M for _ in range(N)]\n",
    "    keys = {}\n",
    "    doors = []\n",
    "    # Initialize the number of rooms and coins collected.\n",
    "    rooms = 1\n",
    "    coins = 0\n",
    "\n",
    "    def is_valid(x, y):\n",
    "        # Check if the cell is within bounds and is not a wall.\n",
    "        return 0 <= x < N and 0 <= y < M and castle[x][y] != '#'\n",
    "\n",
    "    def open_door(x, y):\n",
    "        nonlocal rooms\n",
    "        # Open the door.\n",
    "        castle[x][y] = '.'\n",
    "\n",
    "        # Drop the key.\n",
    "        key, value = keys.popitem()\n",
    "        castle[key[0]][key[1]] = '.'\n",
    "        rooms += 1\n",
    "\n",
    "    def dfs(x, y):\n",
    "        nonlocal rooms, coins\n",
    "\n",
    "        # Mark the cell as visited.\n",
    "        visited[x][y] = True\n",
    "\n",
    "        # If the cell contains a coin, collect it.\n",
    "        if castle[x][y] == 'G':\n",
    "            coins += 1\n",
    "\n",
    "        # If the cell contains a key, add it to the set of keys.\n",
    "        elif castle[x][y] == 'K':\n",
    "            keys[(x, y)] = 'K'\n",
    "            if doors:\n",
    "                return open_door(doors[-1][0], doors[-1][1])\n",
    "            else:\n",
    "                return None\n",
    "\n",
    "        # If the cell is a door, increment the number of rooms and open it.\n",
    "        elif castle[x][y] == 'D' and bool(keys):\n",
    "            open_door(x, y)\n",
    "\n",
    "        elif castle[x][y] == 'D' and not bool(keys):\n",
    "            doors.append((x, y))\n",
    "\n",
    "        # Recursively explore the neighboring cells.\n",
    "        for dx, dy in directions:\n",
    "            new_x, new_y = x + dx, y + dy\n",
    "\n",
    "            # If the neighboring cell is not a wall and not visited, explore it.\n",
    "            if is_valid(new_x, new_y) and not visited[new_x][new_y]:\n",
    "                dfs(new_x, new_y)\n",
    "\n",
    "    # Find the starting position (P).\n",
    "    for i in range(N):\n",
    "        for j in range(M):\n",
    "            if castle[i][j] == 'P':\n",
    "                start_x, start_y = i, j\n",
    "                break\n",
    "\n",
    "    # Start the DFS exploration from the starting position.\n",
    "    dfs(start_x, start_y)\n",
    "\n",
    "    # Return the maximum number of rooms and coins collected.\n",
    "    return rooms, coins"
   ]
  },
  {
   "cell_type": "code",
   "execution_count": 32,
   "metadata": {},
   "outputs": [
    {
     "name": "stdout",
     "output_type": "stream",
     "text": [
      "[['#', '#', '#', '#', '#', '#', '#', '#', '#', '#', '#', '#', '#', '#', '#', '#', '#', '#', '#', '#', '#', '#', '#', '#', '#', '#'], ['#', '.', 'G', '.', '.', '#', '.', '.', '.', '.', '.', '.', '.', '#', '.', '.', '.', '.', '.', '.', '.', 'G', '.', '.', '.', '#'], ['#', '.', '.', '.', '.', 'D', '.', '.', '.', '.', '.', '.', '.', 'D', '.', '.', '.', '.', '.', 'G', '.', '.', '.', '.', 'K', '#'], ['#', '#', '#', '#', '#', '#', '.', '.', '.', '.', '.', '.', '.', '#', '#', '#', '#', '#', '#', '#', '#', '#', '#', '#', '#', '#'], ['#', '.', '.', '.', '.', '#', '.', '.', '.', '.', '.', '.', '.', '.', '.', '.', '.', '.', '.', '.', '.', '.', '.', '.', '.', '#'], ['#', '.', '.', 'P', '.', '#', '.', '.', '.', 'G', '.', '.', '.', '.', '.', '.', '.', 'K', '.', '.', 'K', '.', '.', '.', '.', '#'], ['#', '.', '.', '.', '.', '#', '.', '.', '.', '.', '.', '.', '.', '.', '.', '.', '.', '.', '.', '.', '.', '.', '.', '.', '.', '#'], ['#', '#', '#', '#', '#', '#', '#', 'D', '#', '#', '#', '#', '#', '#', '#', '#', '#', '#', '#', '#', '#', '#', '#', '#', '#', '#'], ['#', '.', 'G', '.', '.', '.', '.', '.', '.', '.', '.', '.', '#', '.', '.', '.', '.', '.', '.', '.', '.', '.', '.', '.', '.', '#'], ['#', '.', '.', '.', '.', '.', '.', '.', '.', '.', '.', '.', '#', '.', '.', '.', '.', '.', '.', '.', '.', '.', '.', '.', '.', '#'], ['#', '.', '.', '.', '.', '.', '.', '.', '.', '.', '.', '.', 'D', '.', '.', '.', '.', '.', '.', '.', '.', '.', '.', 'G', 'G', '#'], ['#', '.', 'K', '.', '.', '.', '.', '.', '.', '.', '.', '.', '#', '.', '.', '.', '.', '.', '.', '.', '.', '.', '.', 'G', 'G', '#'], ['#', '#', '#', '#', '#', '#', '#', '#', '#', '#', '#', '#', '#', '#', '#', '#', '#', '#', '#', '#', '#', '#', '#', '#', '#', '#']]\n"
     ]
    }
   ],
   "source": [
    "N, M = 13, 26 \n",
    "input = \"###########################.G..#.......#.......G...##....D.......D.....G....K#######.......##############....#...................##..P.#...G.......K..K....##....#...................########D###################.G.........#............##...........#............##...........D..........GG##.K.........#..........GG###########################\"\n",
    "castle_map = [list(row) for row in [input[i:i+M] for i in range(0, len(input), M)]]\n",
    "print(castle_map)\n"
   ]
  },
  {
   "cell_type": "code",
   "execution_count": 33,
   "metadata": {},
   "outputs": [
    {
     "name": "stdout",
     "output_type": "stream",
     "text": [
      "1\n",
      "0\n"
     ]
    }
   ],
   "source": [
    "# Start DFS from the starting position\n",
    "max_rooms, max_coins = max_rooms_and_coins(N, M, castle_map)\n",
    "\n",
    "# Output the results\n",
    "print(max_rooms)\n",
    "print(max_coins)"
   ]
  },
  {
   "cell_type": "code",
   "execution_count": 34,
   "metadata": {},
   "outputs": [
    {
     "name": "stdout",
     "output_type": "stream",
     "text": [
      "[['#', '#', '#', '#', '#', '#', '#', '#', '#', '#', '#', '#', '#', '#', '#', '#', '#', '#', '#', '#', '#', '#', '#', '#', '#', '#'], ['#', '.', '.', '.', '.', '.', '.', '.', '.', '.', '.', '.', '.', '.', '.', '.', '.', '.', '#', '.', '.', '.', '.', '.', '.', '#'], ['#', '.', '.', '.', 'P', '.', '.', '.', '.', '.', '.', '.', '.', '.', '.', '.', '.', '.', 'D', '.', '.', '.', '.', '.', '.', '#'], ['#', '.', '.', '.', '.', '.', '.', '.', '.', '.', '.', '.', '.', '.', '.', '.', '.', '.', '#', '.', '.', '.', '.', 'G', '.', '#'], ['#', '.', 'K', '.', '.', '.', '.', '.', '.', '.', '.', '.', '.', '.', '.', '.', '.', '.', '#', '.', '.', '.', '.', '.', '.', '#'], ['#', '#', '#', '#', '#', '#', '#', '#', '#', '#', '#', '#', '#', '#', '#', '#', '#', '#', '#', '#', '#', '#', '#', '#', '#', '#']]\n"
     ]
    }
   ],
   "source": [
    "N, M = 6, 26 \n",
    "input = \"###########################.................#......##...P.............D......##.................#....G.##.K...............#......###########################\"\n",
    "castle_map = [list(row) for row in [input[i:i+M] for i in range(0, len(input), M)]]\n",
    "print(castle_map)\n"
   ]
  },
  {
   "cell_type": "code",
   "execution_count": 35,
   "metadata": {
    "notebookRunGroups": {
     "groupValue": ""
    }
   },
   "outputs": [
    {
     "name": "stdout",
     "output_type": "stream",
     "text": [
      "2\n",
      "1\n"
     ]
    }
   ],
   "source": [
    "# Start DFS from the starting position\n",
    "max_rooms, max_coins = max_rooms_and_coins(N, M, castle_map)\n",
    "\n",
    "# Output the results\n",
    "print(max_rooms)\n",
    "print(max_coins)"
   ]
  },
  {
   "cell_type": "code",
   "execution_count": 36,
   "metadata": {},
   "outputs": [
    {
     "name": "stdout",
     "output_type": "stream",
     "text": [
      "[['#', '#', '#', '#', '#', '#', '#', '#', '#', '#', '#', '#', '#', '#', '#', '#', '#', '#', '#', '#', '#', '#', '#', '#', '#', '#'], ['#', '.', '.', '.', '.', '.', '.', '.', '.', '.', '.', '.', '.', '.', '.', '.', '.', 'G', '.', '.', '.', '.', '.', '.', '.', '#'], ['#', '.', '.', '.', 'P', '.', '.', '.', '.', '.', '.', '.', '.', '.', '.', '.', '.', '.', '.', '.', '.', '.', '.', '.', '.', '#'], ['#', '.', '.', '.', '.', '.', '.', '.', '.', '.', '.', '.', '.', '.', 'G', '.', '.', '.', '.', '.', '.', '.', '.', 'G', '.', '#'], ['#', '.', '.', '.', '.', '.', '.', '.', '.', '.', '.', '.', '.', '.', '.', '.', '.', '.', 'G', '.', '.', '.', '.', '.', '.', '#'], ['#', '#', '#', '#', '#', '#', '#', '#', '#', '#', '#', '#', '#', '#', '#', '#', '#', '#', '#', '#', '#', '#', '#', '#', '#', '#']]\n"
     ]
    }
   ],
   "source": [
    "N, M = 6, 26 \n",
    "input = \"###########################................G.......##...P....................##.............G........G.##.................G......###########################\"\n",
    "castle_map = [list(row) for row in [input[i:i+M] for i in range(0, len(input), M)]]\n",
    "print(castle_map)\n"
   ]
  },
  {
   "cell_type": "code",
   "execution_count": 37,
   "metadata": {},
   "outputs": [
    {
     "name": "stdout",
     "output_type": "stream",
     "text": [
      "1\n",
      "4\n"
     ]
    }
   ],
   "source": [
    "# Start DFS from the starting position\n",
    "max_rooms, max_coins = max_rooms_and_coins(N, M, castle_map)\n",
    "\n",
    "# Output the results\n",
    "print(max_rooms)\n",
    "print(max_coins)"
   ]
  },
  {
   "cell_type": "code",
   "execution_count": 38,
   "metadata": {},
   "outputs": [
    {
     "name": "stdout",
     "output_type": "stream",
     "text": [
      "[['#', '#', '#', '#', '#', '#', '#', '#', '#', '#', '#', '#', '#', '#', '#', '#', '#', '#', '#', '#', '#', '#', '#', '#', '#', '#'], ['#', '.', 'G', '.', '.', '#', '.', '.', '.', '.', '.', '.', '.', '#', '.', '.', '.', '.', '.', '.', '.', 'G', '.', '.', '.', '#'], ['#', '.', '.', '.', '.', 'D', '.', '.', '.', '.', '.', '.', '.', 'D', '.', '.', '.', '.', '.', 'G', '.', '.', '.', '.', 'K', '#'], ['#', '#', '#', '#', '#', '#', '.', '.', '.', '.', '.', '.', '.', '#', '#', '#', '#', '#', '#', '#', '#', '#', '#', '#', '#', '#'], ['#', '.', '.', '.', '.', '.', '.', '.', '.', '.', '.', '.', '.', '.', '.', '.', '.', '.', '.', '.', '.', '.', '.', '.', '.', '#'], ['#', '.', '.', 'P', '.', '.', '.', '.', '.', 'G', '.', '.', '.', '.', '.', '.', '.', 'K', '.', '.', 'K', '.', '.', '.', '.', '#'], ['#', '.', '.', '.', '.', '.', '.', '.', '.', '.', '.', '.', '.', '.', '.', '.', '.', '.', '.', '.', '.', '.', '.', '.', '.', '#'], ['#', '#', '#', '#', '#', '#', '#', 'D', '#', '#', '#', '#', '#', '#', '#', '#', '#', '#', '#', '#', '#', '#', '#', '#', '#', '#'], ['#', '.', 'G', '.', '.', '.', '.', '.', '.', '.', '.', '.', '#', '.', '.', '.', '.', '.', '.', '.', '.', '.', '.', '.', '.', '#'], ['#', '.', '.', '.', '.', '.', '.', '.', '.', '.', '.', '.', '#', '.', '.', '.', '.', '.', '.', '.', '.', '.', '.', '.', '.', '#'], ['#', '.', '.', '.', '.', '.', '.', '.', '.', '.', '.', '.', 'D', '.', '.', '.', '.', '.', '.', '.', '.', '.', '.', 'G', 'G', '#'], ['#', '.', 'K', '.', '.', '.', '.', '.', '.', '.', '.', '.', '#', '.', '.', '.', '.', '.', '.', '.', '.', '.', '.', 'G', 'G', '#'], ['#', '#', '#', '#', '#', '#', '#', '#', '#', '#', '#', '#', '#', '#', '#', '#', '#', '#', '#', '#', '#', '#', '#', '#', '#', '#']]\n"
     ]
    }
   ],
   "source": [
    "\n",
    "N, M = 13, 26\n",
    "input = \"###########################.G..#.......#.......G...##....D.......D.....G....K#######.......##############........................##..P.....G.......K..K....##........................########D###################.G.........#............##...........#............##...........D..........GG##.K.........#..........GG###########################\"\n",
    "\n",
    "castle_map = [list(row) for row in [input[i:i+M] for i in range(0, len(input), M)]]\n",
    "print(castle_map)\n"
   ]
  },
  {
   "cell_type": "code",
   "execution_count": 39,
   "metadata": {},
   "outputs": [
    {
     "name": "stdout",
     "output_type": "stream",
     "text": [
      "5\n",
      "9\n"
     ]
    }
   ],
   "source": [
    "# Start DFS from the starting position\n",
    "max_rooms, max_coins = max_rooms_and_coins(N, M, castle_map)\n",
    "\n",
    "# Output the results\n",
    "print(max_rooms)\n",
    "print(max_coins)"
   ]
  }
 ],
 "metadata": {
  "kernelspec": {
   "display_name": "Python 3",
   "language": "python",
   "name": "python3"
  },
  "language_info": {
   "codemirror_mode": {
    "name": "ipython",
    "version": 3
   },
   "file_extension": ".py",
   "mimetype": "text/x-python",
   "name": "python",
   "nbconvert_exporter": "python",
   "pygments_lexer": "ipython3",
   "version": "3.11.4"
  },
  "orig_nbformat": 4
 },
 "nbformat": 4,
 "nbformat_minor": 2
}
